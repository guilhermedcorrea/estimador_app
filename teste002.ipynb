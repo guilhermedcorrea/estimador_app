{
 "cells": [
  {
   "cell_type": "code",
   "execution_count": 2,
   "metadata": {},
   "outputs": [],
   "source": [
    "import pandas as pd\n",
    "import re\n",
    "from typing import Any, Literal\n",
    "from dataclasses import dataclass, asdict,field\n",
    "import csv\n",
    "from itertools import chain\n",
    "from sklearn.model_selection import train_test_split\n",
    "from sklearn.feature_extraction.text import TfidfVectorizer\n",
    "from sklearn.multiclass import OneVsRestClassifier\n",
    "from sklearn.linear_model import LogisticRegression\n",
    "import numpy as np\n"
   ]
  },
  {
   "cell_type": "code",
   "execution_count": 3,
   "metadata": {},
   "outputs": [],
   "source": [
    "#Tutorial Base\n",
    "#Classificadr multi label \n",
    "\n",
    "#https://scikit-learn.org/stable/modules/generated/sklearn.multiclass.OneVsRestClassifier.html"
   ]
  },
  {
   "cell_type": "code",
   "execution_count": 4,
   "metadata": {},
   "outputs": [
    {
     "data": {
      "text/html": [
       "<div>\n",
       "<style scoped>\n",
       "    .dataframe tbody tr th:only-of-type {\n",
       "        vertical-align: middle;\n",
       "    }\n",
       "\n",
       "    .dataframe tbody tr th {\n",
       "        vertical-align: top;\n",
       "    }\n",
       "\n",
       "    .dataframe thead th {\n",
       "        text-align: right;\n",
       "    }\n",
       "</style>\n",
       "<table border=\"1\" class=\"dataframe\">\n",
       "  <thead>\n",
       "    <tr style=\"text-align: right;\">\n",
       "      <th></th>\n",
       "      <th>IDVENDA</th>\n",
       "      <th>fabricanteId</th>\n",
       "      <th>observacoes</th>\n",
       "      <th>dataCadastro</th>\n",
       "      <th>statusId</th>\n",
       "      <th>totalPedido</th>\n",
       "      <th>valorFinalPedido</th>\n",
       "      <th>descritivoPlanejados</th>\n",
       "      <th>valorFrete</th>\n",
       "      <th>pontoAtencao</th>\n",
       "      <th>NomeFabricante</th>\n",
       "      <th>Unnamed: 11</th>\n",
       "      <th>Unnamed: 12</th>\n",
       "      <th>Unnamed: 13</th>\n",
       "      <th>Unnamed: 14</th>\n",
       "    </tr>\n",
       "  </thead>\n",
       "  <tbody>\n",
       "    <tr>\n",
       "      <th>0</th>\n",
       "      <td>41</td>\n",
       "      <td>11</td>\n",
       "      <td>[PLANEJADOS] Pedido Criado em 08/08/2022 14:09...</td>\n",
       "      <td>2022-08-08 14:09:51.493</td>\n",
       "      <td>10.0</td>\n",
       "      <td>0.0</td>\n",
       "      <td>NaN</td>\n",
       "      <td>[Ambiente: cozinha - Obs: lacca branca somente...</td>\n",
       "      <td>NaN</td>\n",
       "      <td>NaN</td>\n",
       "      <td>HR  MÓVEIS - HRM INDUSTRIA DE MOVEIS EM MDF E ...</td>\n",
       "      <td>NaN</td>\n",
       "      <td>NaN</td>\n",
       "      <td>NaN</td>\n",
       "      <td>NaN</td>\n",
       "    </tr>\n",
       "    <tr>\n",
       "      <th>1</th>\n",
       "      <td>41</td>\n",
       "      <td>12</td>\n",
       "      <td>[PLANEJADOS] Pedido Criado em 08/08/2022 14:09...</td>\n",
       "      <td>2022-08-08 14:09:51.493</td>\n",
       "      <td>10.0</td>\n",
       "      <td>0.0</td>\n",
       "      <td>NaN</td>\n",
       "      <td>[Ambiente: cozinha - Obs: lacca branca somente...</td>\n",
       "      <td>NaN</td>\n",
       "      <td>NaN</td>\n",
       "      <td>EURONOBRE VIDROS LTDA</td>\n",
       "      <td>NaN</td>\n",
       "      <td>NaN</td>\n",
       "      <td>NaN</td>\n",
       "      <td>NaN</td>\n",
       "    </tr>\n",
       "    <tr>\n",
       "      <th>2</th>\n",
       "      <td>41</td>\n",
       "      <td>14</td>\n",
       "      <td>[PLANEJADOS] Pedido Criado em 08/08/2022 14:09...</td>\n",
       "      <td>2022-08-08 14:09:51.493</td>\n",
       "      <td>10.0</td>\n",
       "      <td>0.0</td>\n",
       "      <td>NaN</td>\n",
       "      <td>[Ambiente: cozinha - Obs: lacca branca somente...</td>\n",
       "      <td>NaN</td>\n",
       "      <td>NaN</td>\n",
       "      <td>MYBOX ESPECIAIS - M D COMERCIO E MONTAGEM DE M...</td>\n",
       "      <td>NaN</td>\n",
       "      <td>NaN</td>\n",
       "      <td>NaN</td>\n",
       "      <td>NaN</td>\n",
       "    </tr>\n",
       "    <tr>\n",
       "      <th>3</th>\n",
       "      <td>41</td>\n",
       "      <td>15</td>\n",
       "      <td>[PLANEJADOS] Pedido Criado em 08/08/2022 14:09...</td>\n",
       "      <td>2022-08-08 14:09:51.493</td>\n",
       "      <td>10.0</td>\n",
       "      <td>0.0</td>\n",
       "      <td>NaN</td>\n",
       "      <td>[Ambiente: cozinha - Obs: lacca branca somente...</td>\n",
       "      <td>NaN</td>\n",
       "      <td>NaN</td>\n",
       "      <td>HR LACA - HRM INDUSTRIA DE MOVEIS EM MDF</td>\n",
       "      <td>NaN</td>\n",
       "      <td>NaN</td>\n",
       "      <td>NaN</td>\n",
       "      <td>NaN</td>\n",
       "    </tr>\n",
       "  </tbody>\n",
       "</table>\n",
       "</div>"
      ],
      "text/plain": [
       "  IDVENDA fabricanteId                                        observacoes  \\\n",
       "0      41           11  [PLANEJADOS] Pedido Criado em 08/08/2022 14:09...   \n",
       "1      41           12  [PLANEJADOS] Pedido Criado em 08/08/2022 14:09...   \n",
       "2      41           14  [PLANEJADOS] Pedido Criado em 08/08/2022 14:09...   \n",
       "3      41           15  [PLANEJADOS] Pedido Criado em 08/08/2022 14:09...   \n",
       "\n",
       "              dataCadastro  statusId  totalPedido  valorFinalPedido  \\\n",
       "0  2022-08-08 14:09:51.493      10.0          0.0               NaN   \n",
       "1  2022-08-08 14:09:51.493      10.0          0.0               NaN   \n",
       "2  2022-08-08 14:09:51.493      10.0          0.0               NaN   \n",
       "3  2022-08-08 14:09:51.493      10.0          0.0               NaN   \n",
       "\n",
       "                                descritivoPlanejados valorFrete pontoAtencao  \\\n",
       "0  [Ambiente: cozinha - Obs: lacca branca somente...        NaN          NaN   \n",
       "1  [Ambiente: cozinha - Obs: lacca branca somente...        NaN          NaN   \n",
       "2  [Ambiente: cozinha - Obs: lacca branca somente...        NaN          NaN   \n",
       "3  [Ambiente: cozinha - Obs: lacca branca somente...        NaN          NaN   \n",
       "\n",
       "                                      NomeFabricante Unnamed: 11 Unnamed: 12  \\\n",
       "0  HR  MÓVEIS - HRM INDUSTRIA DE MOVEIS EM MDF E ...         NaN         NaN   \n",
       "1                              EURONOBRE VIDROS LTDA         NaN         NaN   \n",
       "2  MYBOX ESPECIAIS - M D COMERCIO E MONTAGEM DE M...         NaN         NaN   \n",
       "3           HR LACA - HRM INDUSTRIA DE MOVEIS EM MDF         NaN         NaN   \n",
       "\n",
       "  Unnamed: 13 Unnamed: 14  \n",
       "0         NaN         NaN  \n",
       "1         NaN         NaN  \n",
       "2         NaN         NaN  \n",
       "3         NaN         NaN  "
      ]
     },
     "execution_count": 4,
     "metadata": {},
     "output_type": "execute_result"
    }
   ],
   "source": [
    "df = pd.read_excel(\"C:\\classificacaomultilabel\\moveis.xlsx\")\n",
    "df.head(4)"
   ]
  },
  {
   "cell_type": "code",
   "execution_count": 5,
   "metadata": {},
   "outputs": [],
   "source": [
    "def case_function(valores):\n",
    "        \n",
    "        if re.findall('([Cozinha]\\s+\\-)+',str(valores), re.IGNORECASE):\n",
    "            yield \"Cozinha\"\n",
    "\n",
    "        elif re.findall('([Quarto]\\s+\\-)+',str(valores), re.IGNORECASE):\n",
    "            yield \"Quarto\"\n",
    "\n",
    "        elif re.findall('([Rack]\\s+\\-)+',str(valores), re.IGNORECASE):\n",
    "            yield \"Sala\"\n",
    "        \n",
    "        elif re.findall('([closet]\\s+\\-)+',str(valores), re.IGNORECASE):\n",
    "            yield \"Closet\"\n",
    "\n",
    "        elif re.findall('([BANHO]\\s+\\-)+',str(valores), re.IGNORECASE):\n",
    "            yield \"Banheiro\"\n",
    "\n",
    "        elif re.findall('([MESA GAMER]\\s+\\-)+',str(valores), re.IGNORECASE):\n",
    "            yield \"Escritório\"\n",
    "\n",
    "        elif re.findall('([Escritóorio]\\s+\\-)+',str(valores), re.IGNORECASE):\n",
    "            yield \"Escritório\"\n",
    "\n",
    "        elif re.findall('([Sanitáario]\\s+\\-)+',str(valores), re.IGNORECASE):\n",
    "            yield \"Banheiro\"\n",
    "\n",
    "        elif re.findall('([Sala]\\s+\\-)+',str(valores), re.IGNORECASE):\n",
    "            yield \"Sala\"\n",
    "\n",
    "        elif re.findall('([Dormitorio ]\\-)+',str(valores), re.IGNORECASE):\n",
    "            yield \"Quarto\"\n",
    "\n",
    "        elif re.findall('([Aparador]\\s+\\-)+',str(valores), re.IGNORECASE):\n",
    "            yield \"Sala de Estar\"\n",
    "\n",
    "        elif re.findall('([Quarto]\\s+[A-Z]\\w+\\s\\-)+',str(valores), re.IGNORECASE):\n",
    "            yield \"Quarto\"\n",
    "\n",
    "        elif re.findall('([Dormitóorio]\\s+[A-Z]\\w+\\s\\-)+',str(valores), re.IGNORECASE):\n",
    "            yield \"Quarto\"\n",
    "\n",
    "        \n",
    "        elif re.findall('([Sala de Estar]\\s+[A-Z]\\w+\\s\\-)+',str(valores), re.IGNORECASE):\n",
    "            yield \"Sala de Estar\"\n",
    "        \n",
    "        else:\n",
    "            \n",
    "            yield \"Não classificado\""
   ]
  },
  {
   "cell_type": "code",
   "execution_count": 6,
   "metadata": {},
   "outputs": [
    {
     "name": "stdout",
     "output_type": "stream",
     "text": [
      "Index(['IDVENDA', 'fabricanteId', 'observacoes', 'dataCadastro', 'statusId',\n",
      "       'totalPedido', 'valorFinalPedido', 'descritivoPlanejados', 'valorFrete',\n",
      "       'pontoAtencao', 'NomeFabricante', 'Unnamed: 11', 'Unnamed: 12',\n",
      "       'Unnamed: 13', 'Unnamed: 14'],\n",
      "      dtype='object')\n"
     ]
    }
   ],
   "source": [
    "class ReaderFiles:\n",
    "    file: str = r\"C:\\classificacaomultilabel\\moveis.xlsx\"   \n",
    "\n",
    "\n",
    "    def csv_reader(self):\n",
    "        data = pd.read_excel(r\"C:\\classificacaomultilabel\\moveis.xlsx\" )\n",
    "        print(data.columns)\n",
    "        rows = data.to_dict(\"records\")\n",
    "      \n",
    "        yield rows\n",
    "              \n",
    "    def classifica(self):\n",
    "        lista_dicts = []\n",
    "        rows = self.csv_reader()\n",
    "        iterows = [{**row} for row in chain.from_iterable(rows)]\n",
    "        \n",
    "        cont = len(iterows)\n",
    "        i = 0\n",
    "        while i < cont:\n",
    "            nam = str(iterows[i]['descritivoPlanejados']).strip().replace(\"/\",\" \").replace(\n",
    "                \"[\",\"\").replace(\"]\",\"\").replace(\"-\",\"\").replace(\"Ambiente:\",\"\").replace(\n",
    "                \"Obs: \",\"\").replace(\"  \",\" \").replace(\"Ó \",\"O \").replace(\"Á\",\"A\").capitalize()\n",
    " \n",
    "            items = case_function(iterows[i]['descritivoPlanejados'])\n",
    "            for item in items:\n",
    "                \n",
    "                dict_ambiente = {\n",
    "                    \"Departamento\":item,\n",
    "                    \"statusId\":iterows[i][\"statusId\"],\n",
    "                    \"totalPedido\":iterows[i][\"totalPedido\"],\n",
    "                    \"valorFinalPedido\":iterows[i][\"valorFinalPedido\"],\n",
    "                    \"descritivoPlanejados\":nam,\n",
    "                    \"observacoes\":iterows[i][\"observacoes\"],\n",
    "                    \"IDVENDA\":iterows[i][\"IDVENDA\"],\n",
    "                    \"dataCadastro\":iterows[i][\"dataCadastro\"],\n",
    "                    \"fabricanteId\":iterows[i][\"fabricanteId\"],\n",
    "                    \"NomeFabricante\":iterows[i][\"NomeFabricante\"]}\n",
    "\n",
    "                lista_dicts.append(dict_ambiente)\n",
    "            i +=1\n",
    "\n",
    "\n",
    "        return lista_dicts\n",
    "reader = ReaderFiles()\n",
    "lista_df = reader.classifica()\n",
    "dados = pd.DataFrame(lista_df)\n",
    "\n",
    "\n",
    "dados = dados[dados['Departamento'] !=\"Não classificado\"]\n"
   ]
  },
  {
   "cell_type": "code",
   "execution_count": 7,
   "metadata": {},
   "outputs": [],
   "source": [
    "names = dados.Departamento.unique()"
   ]
  },
  {
   "cell_type": "code",
   "execution_count": 8,
   "metadata": {},
   "outputs": [
    {
     "name": "stdout",
     "output_type": "stream",
     "text": [
      "['Cozinha', 'Escritório', 'Quarto', 'Closet', 'Banheiro', 'Sala']\n"
     ]
    }
   ],
   "source": [
    "\n",
    "lista_de_tags = list()\n",
    "\n",
    "for nam in names:\n",
    "    if nam not in lista_de_tags:\n",
    "        lista_de_tags.append(nam)\n",
    "\n",
    "print(lista_de_tags)\n",
    "\n"
   ]
  },
  {
   "cell_type": "code",
   "execution_count": 9,
   "metadata": {},
   "outputs": [],
   "source": [
    "\n",
    "def add_new_column(lista_tags, dataframe, nome_tags):\n",
    "    for tag in lista_tags:\n",
    "        coluna = list()\n",
    "        for lines in dataframe[nome_tags]:\n",
    "            if tag in lines:\n",
    "                coluna.append(1)\n",
    "            else:\n",
    "                coluna.append(0)\n",
    "        dataframe[tag] = coluna\n",
    "\n",
    "add_new_column(lista_de_tags, dados, \"Departamento\")\n"
   ]
  },
  {
   "cell_type": "code",
   "execution_count": 10,
   "metadata": {},
   "outputs": [
    {
     "data": {
      "text/html": [
       "<div>\n",
       "<style scoped>\n",
       "    .dataframe tbody tr th:only-of-type {\n",
       "        vertical-align: middle;\n",
       "    }\n",
       "\n",
       "    .dataframe tbody tr th {\n",
       "        vertical-align: top;\n",
       "    }\n",
       "\n",
       "    .dataframe thead th {\n",
       "        text-align: right;\n",
       "    }\n",
       "</style>\n",
       "<table border=\"1\" class=\"dataframe\">\n",
       "  <thead>\n",
       "    <tr style=\"text-align: right;\">\n",
       "      <th></th>\n",
       "      <th>Departamento</th>\n",
       "      <th>statusId</th>\n",
       "      <th>totalPedido</th>\n",
       "      <th>valorFinalPedido</th>\n",
       "      <th>descritivoPlanejados</th>\n",
       "      <th>observacoes</th>\n",
       "      <th>IDVENDA</th>\n",
       "      <th>dataCadastro</th>\n",
       "      <th>fabricanteId</th>\n",
       "      <th>NomeFabricante</th>\n",
       "      <th>Cozinha</th>\n",
       "      <th>Escritório</th>\n",
       "      <th>Quarto</th>\n",
       "      <th>Closet</th>\n",
       "      <th>Banheiro</th>\n",
       "      <th>Sala</th>\n",
       "    </tr>\n",
       "  </thead>\n",
       "  <tbody>\n",
       "    <tr>\n",
       "      <th>0</th>\n",
       "      <td>Cozinha</td>\n",
       "      <td>10.0</td>\n",
       "      <td>0.0</td>\n",
       "      <td>NaN</td>\n",
       "      <td>cozinha lacca branca somente nas portas gourm...</td>\n",
       "      <td>[PLANEJADOS] Pedido Criado em 08/08/2022 14:09...</td>\n",
       "      <td>41</td>\n",
       "      <td>2022-08-08 14:09:51.493</td>\n",
       "      <td>11</td>\n",
       "      <td>HR  MÓVEIS - HRM INDUSTRIA DE MOVEIS EM MDF E ...</td>\n",
       "      <td>1</td>\n",
       "      <td>0</td>\n",
       "      <td>0</td>\n",
       "      <td>0</td>\n",
       "      <td>0</td>\n",
       "      <td>0</td>\n",
       "    </tr>\n",
       "    <tr>\n",
       "      <th>1</th>\n",
       "      <td>Cozinha</td>\n",
       "      <td>10.0</td>\n",
       "      <td>0.0</td>\n",
       "      <td>NaN</td>\n",
       "      <td>cozinha lacca branca somente nas portas gourm...</td>\n",
       "      <td>[PLANEJADOS] Pedido Criado em 08/08/2022 14:09...</td>\n",
       "      <td>41</td>\n",
       "      <td>2022-08-08 14:09:51.493</td>\n",
       "      <td>12</td>\n",
       "      <td>EURONOBRE VIDROS LTDA</td>\n",
       "      <td>1</td>\n",
       "      <td>0</td>\n",
       "      <td>0</td>\n",
       "      <td>0</td>\n",
       "      <td>0</td>\n",
       "      <td>0</td>\n",
       "    </tr>\n",
       "  </tbody>\n",
       "</table>\n",
       "</div>"
      ],
      "text/plain": [
       "  Departamento  statusId  totalPedido  valorFinalPedido  \\\n",
       "0      Cozinha      10.0          0.0               NaN   \n",
       "1      Cozinha      10.0          0.0               NaN   \n",
       "\n",
       "                                descritivoPlanejados  \\\n",
       "0   cozinha lacca branca somente nas portas gourm...   \n",
       "1   cozinha lacca branca somente nas portas gourm...   \n",
       "\n",
       "                                         observacoes IDVENDA  \\\n",
       "0  [PLANEJADOS] Pedido Criado em 08/08/2022 14:09...      41   \n",
       "1  [PLANEJADOS] Pedido Criado em 08/08/2022 14:09...      41   \n",
       "\n",
       "              dataCadastro fabricanteId  \\\n",
       "0  2022-08-08 14:09:51.493           11   \n",
       "1  2022-08-08 14:09:51.493           12   \n",
       "\n",
       "                                      NomeFabricante  Cozinha  Escritório  \\\n",
       "0  HR  MÓVEIS - HRM INDUSTRIA DE MOVEIS EM MDF E ...        1           0   \n",
       "1                              EURONOBRE VIDROS LTDA        1           0   \n",
       "\n",
       "   Quarto  Closet  Banheiro  Sala  \n",
       "0       0       0         0     0  \n",
       "1       0       0         0     0  "
      ]
     },
     "execution_count": 10,
     "metadata": {},
     "output_type": "execute_result"
    }
   ],
   "source": [
    "dados.head(2)"
   ]
  },
  {
   "cell_type": "code",
   "execution_count": 11,
   "metadata": {},
   "outputs": [
    {
     "data": {
      "text/plain": [
       "['Cozinha', 'Escritório', 'Quarto', 'Closet', 'Banheiro', 'Sala']"
      ]
     },
     "execution_count": 11,
     "metadata": {},
     "output_type": "execute_result"
    }
   ],
   "source": [
    "lista_de_tags"
   ]
  },
  {
   "cell_type": "code",
   "execution_count": 13,
   "metadata": {},
   "outputs": [
    {
     "data": {
      "text/html": [
       "<div>\n",
       "<style scoped>\n",
       "    .dataframe tbody tr th:only-of-type {\n",
       "        vertical-align: middle;\n",
       "    }\n",
       "\n",
       "    .dataframe tbody tr th {\n",
       "        vertical-align: top;\n",
       "    }\n",
       "\n",
       "    .dataframe thead th {\n",
       "        text-align: right;\n",
       "    }\n",
       "</style>\n",
       "<table border=\"1\" class=\"dataframe\">\n",
       "  <thead>\n",
       "    <tr style=\"text-align: right;\">\n",
       "      <th></th>\n",
       "      <th>Departamento</th>\n",
       "      <th>statusId</th>\n",
       "      <th>totalPedido</th>\n",
       "      <th>valorFinalPedido</th>\n",
       "      <th>descritivoPlanejados</th>\n",
       "      <th>observacoes</th>\n",
       "      <th>IDVENDA</th>\n",
       "      <th>dataCadastro</th>\n",
       "      <th>fabricanteId</th>\n",
       "      <th>NomeFabricante</th>\n",
       "      <th>Cozinha</th>\n",
       "      <th>Escritório</th>\n",
       "      <th>Quarto</th>\n",
       "      <th>Closet</th>\n",
       "      <th>Banheiro</th>\n",
       "      <th>Sala</th>\n",
       "      <th>all_departamentos</th>\n",
       "    </tr>\n",
       "  </thead>\n",
       "  <tbody>\n",
       "    <tr>\n",
       "      <th>0</th>\n",
       "      <td>Cozinha</td>\n",
       "      <td>10.0</td>\n",
       "      <td>0.0</td>\n",
       "      <td>NaN</td>\n",
       "      <td>cozinha lacca branca somente nas portas gourm...</td>\n",
       "      <td>[PLANEJADOS] Pedido Criado em 08/08/2022 14:09...</td>\n",
       "      <td>41</td>\n",
       "      <td>2022-08-08 14:09:51.493</td>\n",
       "      <td>11</td>\n",
       "      <td>HR  MÓVEIS - HRM INDUSTRIA DE MOVEIS EM MDF E ...</td>\n",
       "      <td>1</td>\n",
       "      <td>0</td>\n",
       "      <td>0</td>\n",
       "      <td>0</td>\n",
       "      <td>0</td>\n",
       "      <td>0</td>\n",
       "      <td>(1, 0, 0, 0, 0)</td>\n",
       "    </tr>\n",
       "    <tr>\n",
       "      <th>1</th>\n",
       "      <td>Cozinha</td>\n",
       "      <td>10.0</td>\n",
       "      <td>0.0</td>\n",
       "      <td>NaN</td>\n",
       "      <td>cozinha lacca branca somente nas portas gourm...</td>\n",
       "      <td>[PLANEJADOS] Pedido Criado em 08/08/2022 14:09...</td>\n",
       "      <td>41</td>\n",
       "      <td>2022-08-08 14:09:51.493</td>\n",
       "      <td>12</td>\n",
       "      <td>EURONOBRE VIDROS LTDA</td>\n",
       "      <td>1</td>\n",
       "      <td>0</td>\n",
       "      <td>0</td>\n",
       "      <td>0</td>\n",
       "      <td>0</td>\n",
       "      <td>0</td>\n",
       "      <td>(1, 0, 0, 0, 0)</td>\n",
       "    </tr>\n",
       "  </tbody>\n",
       "</table>\n",
       "</div>"
      ],
      "text/plain": [
       "  Departamento  statusId  totalPedido  valorFinalPedido  \\\n",
       "0      Cozinha      10.0          0.0               NaN   \n",
       "1      Cozinha      10.0          0.0               NaN   \n",
       "\n",
       "                                descritivoPlanejados  \\\n",
       "0   cozinha lacca branca somente nas portas gourm...   \n",
       "1   cozinha lacca branca somente nas portas gourm...   \n",
       "\n",
       "                                         observacoes IDVENDA  \\\n",
       "0  [PLANEJADOS] Pedido Criado em 08/08/2022 14:09...      41   \n",
       "1  [PLANEJADOS] Pedido Criado em 08/08/2022 14:09...      41   \n",
       "\n",
       "              dataCadastro fabricanteId  \\\n",
       "0  2022-08-08 14:09:51.493           11   \n",
       "1  2022-08-08 14:09:51.493           12   \n",
       "\n",
       "                                      NomeFabricante  Cozinha  Escritório  \\\n",
       "0  HR  MÓVEIS - HRM INDUSTRIA DE MOVEIS EM MDF E ...        1           0   \n",
       "1                              EURONOBRE VIDROS LTDA        1           0   \n",
       "\n",
       "   Quarto  Closet  Banheiro  Sala all_departamentos  \n",
       "0       0       0         0     0   (1, 0, 0, 0, 0)  \n",
       "1       0       0         0     0   (1, 0, 0, 0, 0)  "
      ]
     },
     "execution_count": 13,
     "metadata": {},
     "output_type": "execute_result"
    }
   ],
   "source": [
    "cont = len(lista_de_tags)\n",
    "i = 0\n",
    "\n",
    "    \n",
    "zip_items = list(zip(dados[lista_de_tags[0]],\n",
    "               dados[lista_de_tags[1]],\n",
    "               dados[lista_de_tags[2]],\n",
    "               dados[lista_de_tags[3]],\n",
    "               dados[lista_de_tags[4]]))\n",
    "  \n",
    "\n",
    "dados[\"all_departamentos\"] = zip_items\n",
    "\n",
    "dados.head(2)"
   ]
  },
  {
   "cell_type": "code",
   "execution_count": 594,
   "metadata": {},
   "outputs": [
    {
     "data": {
      "text/plain": [
       "'Separando dados de teste e treino'"
      ]
     },
     "execution_count": 594,
     "metadata": {},
     "output_type": "execute_result"
    }
   ],
   "source": [
    "\"\"\"Separando dados de teste e treino\"\"\""
   ]
  },
  {
   "cell_type": "code",
   "execution_count": 22,
   "metadata": {},
   "outputs": [
    {
     "name": "stdout",
     "output_type": "stream",
     "text": [
      "1562     (1, 0, 0, 0, 0)\n",
      "7800     (0, 1, 0, 0, 0)\n",
      "13162    (1, 0, 0, 0, 0)\n",
      "10919    (1, 0, 0, 0, 0)\n",
      "8289     (1, 0, 0, 0, 0)\n",
      "              ...       \n",
      "5236     (1, 0, 0, 0, 0)\n",
      "12539    (1, 0, 0, 0, 0)\n",
      "1364     (0, 1, 0, 0, 0)\n",
      "11910    (1, 0, 0, 0, 0)\n",
      "3600     (1, 0, 0, 0, 0)\n",
      "Name: all_departamentos, Length: 12068, dtype: object 9401      escritório dois nichos menores em preto trama...\n",
      "12801     mb 01 porta vaivem porta em mdf 36mm na cor b...\n",
      "9799      cozinha uma cozinha composta por um armário a...\n",
      "5621      painel de tv e adega  painéis em mdf 18mm: bo...\n",
      "8895      balcão de cozinha balcão com uma gaveta e dua...\n",
      "                               ...                        \n",
      "12603     tampo mesa redondo 90x90 tampo 90x90 redondo ...\n",
      "14457     cozinha cozinha, caixarias em 15mm padrão, br...\n",
      "10837     cozinha  caixaria em mdf de 15mm no padrão br...\n",
      "5916                                              cozinha \n",
      "2868      banheiro painéis em mdf branco 15mm, caixaria...\n",
      "Name: descritivoPlanejados, Length: 3017, dtype: object 1562     (1, 0, 0, 0, 0)\n",
      "7800     (0, 1, 0, 0, 0)\n",
      "13162    (1, 0, 0, 0, 0)\n",
      "10919    (1, 0, 0, 0, 0)\n",
      "8289     (1, 0, 0, 0, 0)\n",
      "              ...       \n",
      "5236     (1, 0, 0, 0, 0)\n",
      "12539    (1, 0, 0, 0, 0)\n",
      "1364     (0, 1, 0, 0, 0)\n",
      "11910    (1, 0, 0, 0, 0)\n",
      "3600     (1, 0, 0, 0, 0)\n",
      "Name: all_departamentos, Length: 12068, dtype: object 9401     (1, 0, 0, 0, 0)\n",
      "12801    (1, 0, 0, 0, 0)\n",
      "9799     (1, 0, 0, 0, 0)\n",
      "5621     (1, 0, 0, 0, 0)\n",
      "8895     (1, 0, 0, 0, 0)\n",
      "              ...       \n",
      "12603    (0, 0, 1, 0, 0)\n",
      "14457    (1, 0, 0, 0, 0)\n",
      "10837    (1, 0, 0, 0, 0)\n",
      "5916     (1, 0, 0, 0, 0)\n",
      "2868     (1, 0, 0, 0, 0)\n",
      "Name: all_departamentos, Length: 3017, dtype: object\n"
     ]
    }
   ],
   "source": [
    "X_treino, X_test, Y_treino, Y_test = train_test_split(\n",
    "    dados.descritivoPlanejados,\n",
    "    dados.all_departamentos,\n",
    "    test_size = 0.2,\n",
    "    random_state=123\n",
    ")\n",
    "\n",
    "\n",
    "print(Y_treino,X_test,Y_treino,Y_test)\n"
   ]
  },
  {
   "cell_type": "code",
   "execution_count": 24,
   "metadata": {},
   "outputs": [
    {
     "data": {
      "text/html": [
       "<style>#sk-container-id-2 {color: black;background-color: white;}#sk-container-id-2 pre{padding: 0;}#sk-container-id-2 div.sk-toggleable {background-color: white;}#sk-container-id-2 label.sk-toggleable__label {cursor: pointer;display: block;width: 100%;margin-bottom: 0;padding: 0.3em;box-sizing: border-box;text-align: center;}#sk-container-id-2 label.sk-toggleable__label-arrow:before {content: \"▸\";float: left;margin-right: 0.25em;color: #696969;}#sk-container-id-2 label.sk-toggleable__label-arrow:hover:before {color: black;}#sk-container-id-2 div.sk-estimator:hover label.sk-toggleable__label-arrow:before {color: black;}#sk-container-id-2 div.sk-toggleable__content {max-height: 0;max-width: 0;overflow: hidden;text-align: left;background-color: #f0f8ff;}#sk-container-id-2 div.sk-toggleable__content pre {margin: 0.2em;color: black;border-radius: 0.25em;background-color: #f0f8ff;}#sk-container-id-2 input.sk-toggleable__control:checked~div.sk-toggleable__content {max-height: 200px;max-width: 100%;overflow: auto;}#sk-container-id-2 input.sk-toggleable__control:checked~label.sk-toggleable__label-arrow:before {content: \"▾\";}#sk-container-id-2 div.sk-estimator input.sk-toggleable__control:checked~label.sk-toggleable__label {background-color: #d4ebff;}#sk-container-id-2 div.sk-label input.sk-toggleable__control:checked~label.sk-toggleable__label {background-color: #d4ebff;}#sk-container-id-2 input.sk-hidden--visually {border: 0;clip: rect(1px 1px 1px 1px);clip: rect(1px, 1px, 1px, 1px);height: 1px;margin: -1px;overflow: hidden;padding: 0;position: absolute;width: 1px;}#sk-container-id-2 div.sk-estimator {font-family: monospace;background-color: #f0f8ff;border: 1px dotted black;border-radius: 0.25em;box-sizing: border-box;margin-bottom: 0.5em;}#sk-container-id-2 div.sk-estimator:hover {background-color: #d4ebff;}#sk-container-id-2 div.sk-parallel-item::after {content: \"\";width: 100%;border-bottom: 1px solid gray;flex-grow: 1;}#sk-container-id-2 div.sk-label:hover label.sk-toggleable__label {background-color: #d4ebff;}#sk-container-id-2 div.sk-serial::before {content: \"\";position: absolute;border-left: 1px solid gray;box-sizing: border-box;top: 0;bottom: 0;left: 50%;z-index: 0;}#sk-container-id-2 div.sk-serial {display: flex;flex-direction: column;align-items: center;background-color: white;padding-right: 0.2em;padding-left: 0.2em;position: relative;}#sk-container-id-2 div.sk-item {position: relative;z-index: 1;}#sk-container-id-2 div.sk-parallel {display: flex;align-items: stretch;justify-content: center;background-color: white;position: relative;}#sk-container-id-2 div.sk-item::before, #sk-container-id-2 div.sk-parallel-item::before {content: \"\";position: absolute;border-left: 1px solid gray;box-sizing: border-box;top: 0;bottom: 0;left: 50%;z-index: -1;}#sk-container-id-2 div.sk-parallel-item {display: flex;flex-direction: column;z-index: 1;position: relative;background-color: white;}#sk-container-id-2 div.sk-parallel-item:first-child::after {align-self: flex-end;width: 50%;}#sk-container-id-2 div.sk-parallel-item:last-child::after {align-self: flex-start;width: 50%;}#sk-container-id-2 div.sk-parallel-item:only-child::after {width: 0;}#sk-container-id-2 div.sk-dashed-wrapped {border: 1px dashed gray;margin: 0 0.4em 0.5em 0.4em;box-sizing: border-box;padding-bottom: 0.4em;background-color: white;}#sk-container-id-2 div.sk-label label {font-family: monospace;font-weight: bold;display: inline-block;line-height: 1.2em;}#sk-container-id-2 div.sk-label-container {text-align: center;}#sk-container-id-2 div.sk-container {/* jupyter's `normalize.less` sets `[hidden] { display: none; }` but bootstrap.min.css set `[hidden] { display: none !important; }` so we also need the `!important` here to be able to override the default hidden behavior on the sphinx rendered scikit-learn.org. See: https://github.com/scikit-learn/scikit-learn/issues/21755 */display: inline-block !important;position: relative;}#sk-container-id-2 div.sk-text-repr-fallback {display: none;}</style><div id=\"sk-container-id-2\" class=\"sk-top-container\"><div class=\"sk-text-repr-fallback\"><pre>TfidfVectorizer(max_df=0.85, max_features=50000)</pre><b>In a Jupyter environment, please rerun this cell to show the HTML representation or trust the notebook. <br />On GitHub, the HTML representation is unable to render, please try loading this page with nbviewer.org.</b></div><div class=\"sk-container\" hidden><div class=\"sk-item\"><div class=\"sk-estimator sk-toggleable\"><input class=\"sk-toggleable__control sk-hidden--visually\" id=\"sk-estimator-id-2\" type=\"checkbox\" checked><label for=\"sk-estimator-id-2\" class=\"sk-toggleable__label sk-toggleable__label-arrow\">TfidfVectorizer</label><div class=\"sk-toggleable__content\"><pre>TfidfVectorizer(max_df=0.85, max_features=50000)</pre></div></div></div></div></div>"
      ],
      "text/plain": [
       "TfidfVectorizer(max_df=0.85, max_features=50000)"
      ]
     },
     "execution_count": 24,
     "metadata": {},
     "output_type": "execute_result"
    }
   ],
   "source": [
    "vetor = TfidfVectorizer(max_features=50000, max_df=0.85)\n",
    "vetor.fit(dados.descritivoPlanejados)"
   ]
  },
  {
   "cell_type": "code",
   "execution_count": null,
   "metadata": {},
   "outputs": [],
   "source": [
    "X_treino_tfid =vetor.transform(X_treino)\n",
    "X_test_tfid = vetor.transform(Y_test)"
   ]
  },
  {
   "cell_type": "code",
   "execution_count": null,
   "metadata": {},
   "outputs": [
    {
     "name": "stdout",
     "output_type": "stream",
     "text": [
      "(12068, 3836)\n"
     ]
    }
   ],
   "source": [
    "print(X_treino_tfid.shape)"
   ]
  },
  {
   "cell_type": "code",
   "execution_count": null,
   "metadata": {},
   "outputs": [],
   "source": [
    "\n",
    "regressao_logistica = LogisticRegression()\n",
    "classificador_onevsrest = OneVsRestClassifier(regressao_logistica)\n",
    "classificador_onevsrest.fit(X_treino_tfid, X_test_tfid)"
   ]
  },
  {
   "cell_type": "code",
   "execution_count": null,
   "metadata": {},
   "outputs": [],
   "source": [
    "tags_treino_array = np.asarray(list(X_treino))\n",
    "tags_test_array = np.asarray(list(X_test))"
   ]
  },
  {
   "cell_type": "code",
   "execution_count": null,
   "metadata": {},
   "outputs": [],
   "source": [
    "X_treino_tfid =vetor.transform(X_treino)\n",
    "X_test_tfid = vetor.transform(X_test)"
   ]
  },
  {
   "cell_type": "code",
   "execution_count": null,
   "metadata": {},
   "outputs": [
    {
     "data": {
      "text/plain": [
       "'Regressão logistica'"
      ]
     },
     "execution_count": 546,
     "metadata": {},
     "output_type": "execute_result"
    }
   ],
   "source": [
    "\"\"\"Regressão logistica\"\"\"\n"
   ]
  },
  {
   "cell_type": "code",
   "execution_count": null,
   "metadata": {},
   "outputs": [],
   "source": [
    "\n",
    "from sklearn.multiclass import OneVsRestClassifier\n",
    "from sklearn.linear_model import LogisticRegression\n",
    "\n",
    "regressao_logistica = LogisticRegression()\n",
    "classificador_onevsrest = OneVsRestClassifier(regressao_logistica)\n",
    "classificador_onevsrest.fit(X_treino_tfid, X_test_tfid)"
   ]
  }
 ],
 "metadata": {
  "kernelspec": {
   "display_name": "venv",
   "language": "python",
   "name": "python3"
  },
  "language_info": {
   "codemirror_mode": {
    "name": "ipython",
    "version": 3
   },
   "file_extension": ".py",
   "mimetype": "text/x-python",
   "name": "python",
   "nbconvert_exporter": "python",
   "pygments_lexer": "ipython3",
   "version": "3.11.2"
  },
  "orig_nbformat": 4
 },
 "nbformat": 4,
 "nbformat_minor": 2
}
